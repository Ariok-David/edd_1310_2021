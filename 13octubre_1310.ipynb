{
  "nbformat": 4,
  "nbformat_minor": 0,
  "metadata": {
    "colab": {
      "name": "13octubre_1310.ipynb",
      "provenance": [],
      "collapsed_sections": [],
      "authorship_tag": "ABX9TyNOf6+axfz5n2NDHbpf8BkU",
      "include_colab_link": true
    },
    "kernelspec": {
      "name": "python3",
      "display_name": "Python 3"
    }
  },
  "cells": [
    {
      "cell_type": "markdown",
      "metadata": {
        "id": "view-in-github",
        "colab_type": "text"
      },
      "source": [
        "<a href=\"https://colab.research.google.com/github/Ariok-David/edd_1310_2021/blob/master/13octubre_1310.ipynb\" target=\"_parent\"><img src=\"https://colab.research.google.com/assets/colab-badge.svg\" alt=\"Open In Colab\"/></a>"
      ]
    },
    {
      "cell_type": "code",
      "metadata": {
        "id": "lyxHCprosWX1",
        "outputId": "acce63f6-2e1a-4408-d317-6edf08f05578",
        "colab": {
          "base_uri": "https://localhost:8080/",
          "height": 105
        }
      },
      "source": [
        "alumno = { \n",
        "          \"num_cta\" : 303030303 ,\n",
        "          \"carrera\" : \"ICO\",\n",
        "          \"promedio\" : 9.8,\n",
        "          \"materias\" :[\"EDD\",\"CyP\",\"Calidad\",\"Emprendimiento\"],\n",
        "          \"direccion\" : { \n",
        "                            \"calle\":\"rancho seco\",\n",
        "                            \"numero\" : 23 ,\n",
        "                            \"delegacion\" : \"Neza\",\n",
        "                            \"estado\" : {\n",
        "                                        \"id\" : 15 ,\n",
        "                                        \"nombre\" : \"Estado de Máxico\" ,\n",
        "                                        \"nombre_corto\" : \"EdoMex\"\n",
        "                                        } ,\n",
        "                            \"CP\":57170\n",
        "\n",
        "                        } \n",
        "          }\n",
        "print(alumno)\n",
        "alumno['carrera'] = \"Ingenieria en Computacion\"\n",
        "print(alumno)\n",
        "alumno['nombre_completo'] = {'primer':\"Juan\",\n",
        "                             'segundo':\"Pedro\",\n",
        "                             'materno':\"Perez\",\n",
        "                             'patern':\"Gomez\"\n",
        "                             }\n",
        "alumno['semestre'] = 3\n",
        "print(alumno)\n",
        "\n",
        "print(f\"{alumno['nombre_completo']['primer']} {alumno['nombre_completo']['segundo']}\")\n",
        "\n"
      ],
      "execution_count": 4,
      "outputs": [
        {
          "output_type": "stream",
          "text": [
            "{'num_cta': 303030303, 'carrera': 'ICO', 'promedio': 9.8, 'materias': ['EDD', 'CyP', 'Calidad', 'Emprendimiento'], 'direccion': {'calle': 'rancho seco', 'numero': 23, 'delegacion': 'Neza', 'estado': {'id': 15, 'nombre': 'Estado de Máxico', 'nombre_corto': 'EdoMex'}, 'CP': 57170}}\n",
            "{'num_cta': 303030303, 'carrera': 'Ingenieria en Computacion', 'promedio': 9.8, 'materias': ['EDD', 'CyP', 'Calidad', 'Emprendimiento'], 'direccion': {'calle': 'rancho seco', 'numero': 23, 'delegacion': 'Neza', 'estado': {'id': 15, 'nombre': 'Estado de Máxico', 'nombre_corto': 'EdoMex'}, 'CP': 57170}}\n",
            "{'num_cta': 303030303, 'carrera': 'Ingenieria en Computacion', 'promedio': 9.8, 'materias': ['EDD', 'CyP', 'Calidad', 'Emprendimiento'], 'direccion': {'calle': 'rancho seco', 'numero': 23, 'delegacion': 'Neza', 'estado': {'id': 15, 'nombre': 'Estado de Máxico', 'nombre_corto': 'EdoMex'}, 'CP': 57170}, 'nombre_completo': {'primer': 'Juan', 'segundo': 'Pedro', 'materno': 'Perez', 'patern': 'Gomez'}, 'semestre': 3}\n",
            "Juan Pedro\n"
          ],
          "name": "stdout"
        }
      ]
    },
    {
      "cell_type": "code",
      "metadata": {
        "id": "RgUjngzhyc2l",
        "outputId": "d6efbcc7-15c6-4bee-9143-2a1275517f01",
        "colab": {
          "base_uri": "https://localhost:8080/",
          "height": 462
        }
      },
      "source": [
        "# key(), values() y items()\n",
        "\n",
        "llaves = alumno.keys()\n",
        "print(llaves)\n",
        "for llave in llaves:\n",
        "    print(llave.upper())\n",
        "\n",
        "\n",
        "print(\"-----------------------------\")\n",
        "\n",
        "\n",
        "valores = alumno.values()\n",
        "for val in valores:\n",
        "    print(val)\n",
        "\n",
        "print(\"--------------------------------\")\n",
        "\n",
        "pares = alumno.items()\n",
        "print(pares)\n",
        "for elem in pares:\n",
        "    print(f\"El campo {elem[0]} tiene el valor {elem[1]}\")\n",
        "\n",
        "print(\"--------------------------------\")\n"
      ],
      "execution_count": 10,
      "outputs": [
        {
          "output_type": "stream",
          "text": [
            "dict_keys(['num_cta', 'carrera', 'promedio', 'materias', 'direccion', 'nombre_completo', 'semestre'])\n",
            "NUM_CTA\n",
            "CARRERA\n",
            "PROMEDIO\n",
            "MATERIAS\n",
            "DIRECCION\n",
            "NOMBRE_COMPLETO\n",
            "SEMESTRE\n",
            "-----------------------------\n",
            "303030303\n",
            "Ingenieria en Computacion\n",
            "9.8\n",
            "['EDD', 'CyP', 'Calidad', 'Emprendimiento']\n",
            "{'calle': 'rancho seco', 'numero': 23, 'delegacion': 'Neza', 'estado': {'id': 15, 'nombre': 'Estado de Máxico', 'nombre_corto': 'EdoMex'}, 'CP': 57170}\n",
            "{'primer': 'Juan', 'segundo': 'Pedro', 'materno': 'Perez', 'patern': 'Gomez'}\n",
            "3\n",
            "--------------------------------\n",
            "dict_items([('num_cta', 303030303), ('carrera', 'Ingenieria en Computacion'), ('promedio', 9.8), ('materias', ['EDD', 'CyP', 'Calidad', 'Emprendimiento']), ('direccion', {'calle': 'rancho seco', 'numero': 23, 'delegacion': 'Neza', 'estado': {'id': 15, 'nombre': 'Estado de Máxico', 'nombre_corto': 'EdoMex'}, 'CP': 57170}), ('nombre_completo', {'primer': 'Juan', 'segundo': 'Pedro', 'materno': 'Perez', 'patern': 'Gomez'}), ('semestre', 3)])\n",
            "El campo num_cta tiene el valor 303030303\n",
            "El campo carrera tiene el valor Ingenieria en Computacion\n",
            "El campo promedio tiene el valor 9.8\n",
            "El campo materias tiene el valor ['EDD', 'CyP', 'Calidad', 'Emprendimiento']\n",
            "El campo direccion tiene el valor {'calle': 'rancho seco', 'numero': 23, 'delegacion': 'Neza', 'estado': {'id': 15, 'nombre': 'Estado de Máxico', 'nombre_corto': 'EdoMex'}, 'CP': 57170}\n",
            "El campo nombre_completo tiene el valor {'primer': 'Juan', 'segundo': 'Pedro', 'materno': 'Perez', 'patern': 'Gomez'}\n",
            "El campo semestre tiene el valor 3\n"
          ],
          "name": "stdout"
        }
      ]
    },
    {
      "cell_type": "code",
      "metadata": {
        "id": "RZ0YV5Rw1CSE",
        "outputId": "72564be7-f3a4-4716-b674-2c5296e1f551",
        "colab": {
          "base_uri": "https://localhost:8080/",
          "height": 34
        }
      },
      "source": [
        "#Concatenar diccionarios\n",
        "computadora = {\"Procesador\":\"Intel i7\",\"RAM\":\"kINGSTOM 128 GB\"}\n",
        "otros = {\"Monitor\":\"LG 49\\\"\",\"HD\":\"Toshiba 1TB\"}\n",
        "computadora.update(otros)\n",
        "print(computadora)"
      ],
      "execution_count": 14,
      "outputs": [
        {
          "output_type": "stream",
          "text": [
            "{'Procesador': 'Intel i7', 'RAM': 'kINGSTOM 128 GB', 'Monitor': 'LG 49\"', 'HD': 'Toshiba 1TB'}\n"
          ],
          "name": "stdout"
        }
      ]
    },
    {
      "cell_type": "markdown",
      "metadata": {
        "id": "8f7PV1fN2qEB"
      },
      "source": [
        "# funciones\n",
        "- unidades de codigo reutilizable\n",
        "- es mecanismo de organizacion de codigo\n",
        "- una funcion toma de 0 a n parametros de entrada\n",
        "- tiene una sola salida (return) de cualquier tipo de dato\n",
        "- solo puedes hacer dos cosas\n",
        "  - definirla\n",
        "  - llamarla\n",
        "- se definen con la palabra reservada 'def'"
      ]
    },
    {
      "cell_type": "code",
      "metadata": {
        "id": "hqr3Imif392r",
        "outputId": "d9e1d581-f5e4-41e7-c32b-6a74ff126c9d",
        "colab": {
          "base_uri": "https://localhost:8080/",
          "height": 408
        }
      },
      "source": [
        "def sumar(x, y):\n",
        "    resultado = x + y\n",
        "    return resultado\n",
        "\n",
        "print(sumar(10, 14))\n",
        "print(sumar(5, 4))\n",
        "\n",
        "print(\"------------------------------\")\n",
        "\n",
        "def saludar(nombre):\n",
        "    print(f\"Hola {nombre}, ¿Como estas?\")\n",
        "    return None\n",
        "\n",
        "saludar(\"ariok\")\n",
        "print(saludar(\"Ariok\"))\n",
        "\n",
        "print(\"------------------------------\")\n",
        "\n",
        "# procesar None\n",
        "\n",
        "def multiplicar(valor1, valor2):\n",
        "    if valor1 != None:\n",
        "        c = valor1 * valor2\n",
        "    else:\n",
        "        c = \"Operacion no valida\"\n",
        "    return c\n",
        "\n",
        "print(multiplicar(None, 5))\n",
        "\n",
        "print(\"------------------------------\")\n",
        "\n",
        "def operacion(a, b, c):\n",
        "    res = a + (b/c)\n",
        "    return res \n",
        "\n",
        "print(operacion(2, 5, 5))\n",
        "\n",
        "print(\"------------------------------\")\n",
        "\n",
        "#Valores por defecto\n",
        "\n",
        "def comanda(primer, fuerte, postre = \"Galletas gg\"):\n",
        "    print(f\"Entrada pidio:{primer}\")\n",
        "    print(f\"De plato fuerte pidio:{fuerte}\")\n",
        "    print(f\"De postre pidio:{postre}\")\n",
        "\n",
        "comanda(\"sopa aguada\", \"bistec gg\")\n",
        "comanda(\"sopa de letras gg\", \"Bistec de pollo gg\", \"yogurt gg\")\n",
        "\n",
        "print(\"------------------------------\")\n",
        "\n",
        "def comanda_2( *opciones ):\n",
        "    print(opciones)\n",
        "    print(f\"Entrada pidio:{opciones[0]}\")\n",
        "    print(f\"De plato fuerte pidio:{opciones[1]}\")\n",
        "    print(f\"De postre pidio:{opciones[2]}\")\n",
        "    print(\"Extras\")\n",
        "    for ind in opciones[3::]:\n",
        "        print(f\"\\t {ind} \")\n",
        "\n",
        "comanda_2(\"arroz\", \"torta de papa\", \"lo que sea\")"
      ],
      "execution_count": 32,
      "outputs": [
        {
          "output_type": "stream",
          "text": [
            "24\n",
            "9\n",
            "------------------------------\n",
            "Hola ariok, ¿Como estas?\n",
            "Hola Ariok, ¿Como estas?\n",
            "None\n",
            "------------------------------\n",
            "Operacion no valida\n",
            "------------------------------\n",
            "3.0\n",
            "------------------------------\n",
            "Entrada pidio:sopa aguada\n",
            "De plato fuerte pidio:bistec gg\n",
            "De postre pidio:Galletas gg\n",
            "Entrada pidio:sopa de letras gg\n",
            "De plato fuerte pidio:Bistec de pollo gg\n",
            "De postre pidio:yogurt gg\n",
            "------------------------------\n",
            "('arroz', 'torta de papa', 'lo que sea')\n",
            "Entrada pidio:arroz\n",
            "De plato fuerte pidio:torta de papa\n",
            "De postre pidio:lo que sea\n",
            "Extras\n"
          ],
          "name": "stdout"
        }
      ]
    },
    {
      "cell_type": "code",
      "metadata": {
        "id": "3x-nm5SyB0xF",
        "outputId": "070661a4-123d-45ae-aa63-255b8138ff17",
        "colab": {
          "base_uri": "https://localhost:8080/",
          "height": 102
        }
      },
      "source": [
        "#Argumento posiccionales con diccionarios\n",
        "def comanda_3( **opciones ):\n",
        "    print(opciones)\n",
        "    for op in opciones.items():\n",
        "        print(f\"{op[0]} -> {op[1]} \")\n",
        "\n",
        "comanda_3(primer = \"Sopa aguada\", segundo = \"Torta de papa\", fuerte = \"bisteck\", postre = \"yogurt\")"
      ],
      "execution_count": 35,
      "outputs": [
        {
          "output_type": "stream",
          "text": [
            "{'primer': 'Sopa aguada', 'segundo': 'Torta de papa', 'fuerte': 'bisteck', 'postre': 'yogurt'}\n",
            "primer -> Sopa aguada \n",
            "segundo -> Torta de papa \n",
            "fuerte -> bisteck \n",
            "postre -> yogurt \n"
          ],
          "name": "stdout"
        }
      ]
    }
  ]
}