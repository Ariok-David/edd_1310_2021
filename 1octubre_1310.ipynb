{
  "nbformat": 4,
  "nbformat_minor": 0,
  "metadata": {
    "colab": {
      "name": "1octubre_1310.ipynb",
      "provenance": [],
      "collapsed_sections": [],
      "authorship_tag": "ABX9TyMNvu6AHNgN9SLXX8L8HA/w",
      "include_colab_link": true
    },
    "kernelspec": {
      "name": "python3",
      "display_name": "Python 3"
    }
  },
  "cells": [
    {
      "cell_type": "markdown",
      "metadata": {
        "id": "view-in-github",
        "colab_type": "text"
      },
      "source": [
        "<a href=\"https://colab.research.google.com/github/Ariok-David/edd_1310_2021/blob/master/1octubre_1310.ipynb\" target=\"_parent\"><img src=\"https://colab.research.google.com/assets/colab-badge.svg\" alt=\"Open In Colab\"/></a>"
      ]
    },
    {
      "cell_type": "markdown",
      "metadata": {
        "id": "nMH8IxQ07q3T"
      },
      "source": [
        "## Intro Python 3\n",
        "### Variables\n",
        "Tipo dinamico\n",
        "\n",
        "```escuela = \"Fes Aragón\"```\n"
      ]
    },
    {
      "cell_type": "code",
      "metadata": {
        "id": "JofWQZkn2wok",
        "outputId": "6cc95074-90c9-4c9a-ed29-536e863a8bb9",
        "colab": {
          "base_uri": "https://localhost:8080/",
          "height": 153
        }
      },
      "source": [
        "escuela = \"Fes Aragón\"\n",
        "print(escuela)\n",
        "print(\"---------------\")\n",
        "edad = 13\n",
        "estatura = 1.67\n",
        "fumador = True\n",
        "frase = \"\"\"\n",
        "Esta es una frase\n",
        "de multiples lineas\n",
        "y tambies es un tipo\n",
        "de dato.\n",
        "\"\"\"\n",
        "print(frase)\n",
        "nombre = 'Jose'\n",
        "nombre_completo = \"Jose Arenas Renteria\"\n",
        "\n",
        "#-------------------------------------\n",
        "\n"
      ],
      "execution_count": 5,
      "outputs": [
        {
          "output_type": "stream",
          "text": [
            "Fes Aragón\n",
            "---------------\n",
            "\n",
            "Esta es una frase\n",
            "de multiples lineas\n",
            "y tambies es un tipo\n",
            "de dato.\n",
            "\n"
          ],
          "name": "stdout"
        }
      ]
    },
    {
      "cell_type": "markdown",
      "metadata": {
        "id": "SLDxxsv992Uy"
      },
      "source": [
        "# Print\n",
        "con comas\n",
        "\n",
        "con signo +\n",
        "\n",
        "con format()\n",
        "\n",
        "con el operador f\"\""
      ]
    },
    {
      "cell_type": "code",
      "metadata": {
        "id": "0C0r-NFs-C8d",
        "outputId": "24a451d4-bc70-4018-a05a-49cdc053d2d6",
        "colab": {
          "base_uri": "https://localhost:8080/",
          "height": 85
        }
      },
      "source": [
        "# la coma genera un espacio.\n",
        "print(nombre,edad)\n"
      ],
      "execution_count": 9,
      "outputs": [
        {
          "output_type": "stream",
          "text": [
            "Jose 13\n",
            "--------------\n",
            "Jose13\n",
            "Jose Jose Arenas Renteria\n"
          ],
          "name": "stdout"
        }
      ]
    },
    {
      "cell_type": "code",
      "metadata": {
        "id": "k17EU4nXAEWx",
        "outputId": "67fcdc49-b57d-4060-a292-caddc140d9f1",
        "colab": {
          "base_uri": "https://localhost:8080/",
          "height": 68
        }
      },
      "source": [
        "# El + concatena dos variables.\n",
        "print(\"--------------\")\n",
        "print(nombre + str(edad))\n",
        "print(nombre + \"-\" + nombre_completo)"
      ],
      "execution_count": 10,
      "outputs": [
        {
          "output_type": "stream",
          "text": [
            "--------------\n",
            "Jose13\n",
            "Jose-Jose Arenas Renteria\n"
          ],
          "name": "stdout"
        }
      ]
    },
    {
      "cell_type": "code",
      "metadata": {
        "id": "sQzzY9ILAG09",
        "outputId": "679ddc95-bdaf-4151-a295-7d156e1022df",
        "colab": {
          "base_uri": "https://localhost:8080/",
          "height": 119
        }
      },
      "source": [
        "# con format() ----> Nombre: Jose y su edad es 13 años.\n",
        "print(\"---------------\")\n",
        "# se podria hacer de esta forma pero no es conveniente\n",
        "print(\"Nombre:\",nombre,\"y su edad es\",edad,\"años.\")\n",
        "# mejor con format.\n",
        "print(\"-------------------\")\n",
        "print(\"Nombre: {0} y su edad es {1} años.\".format(nombre,edad))\n",
        "# Experimento.\n",
        "print(\"-------------------\")\n",
        "print(\"Nombre: {1} y su edad es {0} años.\".format(nombre,edad))"
      ],
      "execution_count": 13,
      "outputs": [
        {
          "output_type": "stream",
          "text": [
            "---------------\n",
            "Nombre: Jose y su edad es 13 años.\n",
            "-------------------\n",
            "Nombre: Jose y su edad es 13 años.\n",
            "-------------------\n",
            "Nombre: 13 y su edad es Jose años.\n"
          ],
          "name": "stdout"
        }
      ]
    },
    {
      "cell_type": "code",
      "metadata": {
        "id": "4ZlBdnUdBtoB",
        "outputId": "a653c1b0-7be1-4a1d-c330-804fa7983a24",
        "colab": {
          "base_uri": "https://localhost:8080/",
          "height": 51
        }
      },
      "source": [
        "# Con formato con el operador f \"\".\n",
        "print(\"----------------\")\n",
        "print(f\"Nombre: {nombre} y su edad es {edad} años.\")"
      ],
      "execution_count": 14,
      "outputs": [
        {
          "output_type": "stream",
          "text": [
            "----------------\n",
            "Nombre: Jose y su edad es 13 años.\n"
          ],
          "name": "stdout"
        }
      ]
    },
    {
      "cell_type": "markdown",
      "metadata": {
        "id": "JXutIOHqCRYE"
      },
      "source": [
        "# Carácter de escape.\n",
        "```\\n``` - Salto de linea.\n",
        "\n",
        "```\\t``` - Tabulador.\n",
        "\n",
        "```\\a``` - Beep\n",
        "\n",
        "```\\\"``` - Imprimir comilla doble.\n",
        "\n",
        "```\\'``` - Imprimir comilla simple.\n",
        "\n"
      ]
    },
    {
      "cell_type": "code",
      "metadata": {
        "id": "KRN5L-Q9DOvS",
        "outputId": "970ba960-1cfc-4abe-f9f3-8ded412ec548",
        "colab": {
          "base_uri": "https://localhost:8080/",
          "height": 51
        }
      },
      "source": [
        "\"\"\"\n",
        "Esto es un \n",
        "comentario\n",
        "de multiple \n",
        "linea\n",
        "\"\"\"\n",
        "\n",
        "print(f\"\\t Mi nombre es \\n\\t\\t {nombre}\")"
      ],
      "execution_count": 15,
      "outputs": [
        {
          "output_type": "stream",
          "text": [
            "\t Mi nombre es \n",
            "\t\t Jose\n"
          ],
          "name": "stdout"
        }
      ]
    },
    {
      "cell_type": "markdown",
      "metadata": {
        "id": "Lnvb61XIDqi4"
      },
      "source": [
        "# Ayuda de tipos de dato en Python\n",
        "\n",
        "```dir()```\n",
        "\n",
        "```help()```"
      ]
    },
    {
      "cell_type": "code",
      "metadata": {
        "id": "sR2Lc3PQERhe"
      },
      "source": [
        "# str, int, float, bool, ..... ,list, dict, set\n",
        "help(str)"
      ],
      "execution_count": null,
      "outputs": []
    },
    {
      "cell_type": "code",
      "metadata": {
        "id": "tVw5EJtcFLoC",
        "outputId": "ea47aef7-11f3-4c44-f981-65c92263bc12",
        "colab": {
          "base_uri": "https://localhost:8080/",
          "height": 102
        }
      },
      "source": [
        "print(nombre_completo.capitalize())\n",
        "print(\"--------------\")\n",
        "print(nombre_completo.upper())\n",
        "print(\"--------------\")\n",
        "print(nombre_completo.title(), end = \"+++++\")"
      ],
      "execution_count": 24,
      "outputs": [
        {
          "output_type": "stream",
          "text": [
            "Jose arenas renteria\n",
            "--------------\n",
            "JOSE ARENAS RENTERIA\n",
            "--------------\n",
            "Jose Arenas Renteria+++++"
          ],
          "name": "stdout"
        }
      ]
    },
    {
      "cell_type": "code",
      "metadata": {
        "id": "LVRKU9sgF_xG"
      },
      "source": [
        "help(print)"
      ],
      "execution_count": null,
      "outputs": []
    },
    {
      "cell_type": "markdown",
      "metadata": {
        "id": "iJ8jiEuiG0S6"
      },
      "source": [
        "# clase String\n",
        "\n",
        "Es manejada como un arreglo (c o java) o lita (python)\n",
        "\n",
        "```telefono = \"Huawei mate 30 pro\"```\n"
      ]
    },
    {
      "cell_type": "code",
      "metadata": {
        "id": "sr8LqUulHyCN",
        "outputId": "3d04a5cd-7744-432e-bba7-1a22f10f69b0",
        "colab": {
          "base_uri": "https://localhost:8080/",
          "height": 34
        }
      },
      "source": [
        "telefono = \"Huawei mate 30 pro\"\n",
        "# Mostrar solo la i del texto anterior.\n",
        "print(telefono[5])"
      ],
      "execution_count": 28,
      "outputs": [
        {
          "output_type": "stream",
          "text": [
            "i\n"
          ],
          "name": "stdout"
        }
      ]
    },
    {
      "cell_type": "markdown",
      "metadata": {
        "id": "ITSl0UalIKSf"
      },
      "source": [
        "# Slicing (Rebanado gg)\n",
        "\n",
        "```[inicio : stop : incremento]```\n",
        "\n",
        "Nota: el stop no se incluye, se pone el valor anterior a donde queremos terminar."
      ]
    },
    {
      "cell_type": "code",
      "metadata": {
        "id": "Fixlpfq9Ifuk",
        "outputId": "73e5fb56-b3bf-431f-c5cf-38574c0a39a1",
        "colab": {
          "base_uri": "https://localhost:8080/",
          "height": 170
        }
      },
      "source": [
        "print(telefono[7:11:1])\n",
        "#El inicio y el incremento son opcionales\n",
        "print(\"--------------\")\n",
        "print(telefono[:11:])\n",
        "#El valor por defecto de stop es len(str)\n",
        "print(\"--------------\")\n",
        "print(telefono[::])\n",
        "#Incremento Negativo\n",
        "print(\"--------------\")\n",
        "print(telefono[::-1])\n",
        "#Slicing Negativo \n",
        "print(\"--------------\")\n",
        "print(telefono[-3::1])"
      ],
      "execution_count": 36,
      "outputs": [
        {
          "output_type": "stream",
          "text": [
            "mate\n",
            "--------------\n",
            "Huawei mate\n",
            "--------------\n",
            "Huawei mate 30 pro\n",
            "--------------\n",
            "orp 03 etam iewauH\n",
            "--------------\n",
            "pro\n"
          ],
          "name": "stdout"
        }
      ]
    },
    {
      "cell_type": "markdown",
      "metadata": {
        "id": "QuO1vITMNKmk"
      },
      "source": [
        "# Metodos de String\n",
        "\n",
        "Existen metodos muy utiles en esta clase"
      ]
    },
    {
      "cell_type": "code",
      "metadata": {
        "id": "gVRPCoxYNVOj",
        "outputId": "4895f146-f7a7-42d6-9e82-209b4deb3fd9",
        "colab": {
          "base_uri": "https://localhost:8080/",
          "height": 289
        }
      },
      "source": [
        "facultad = \"    facultad de estudios superiores aragon      \"\n",
        "#Conteo de caracteres\n",
        "print(facultad.count(\" \"))\n",
        "#Muestar en que espacio esta el caracter seleccionado mas cercano.\n",
        "print(\"----------------\")\n",
        "print(facultad.find(\"s\"))\n",
        "#Elimina los espacios en blanco solo en el inicio y final al igual que los saltos de linea.\n",
        "print(\"----------------\")\n",
        "print(facultad.strip())\n",
        "#Longitud de string\n",
        "print(\"----------------\")\n",
        "print(len(facultad))\n",
        "#Separa la cadena tomando en cuenta el caracter que queramos\n",
        "print(\"----------------\")\n",
        "print(facultad.split(\"u\"))\n",
        "#Copiar cadenas\n",
        "otra_cadena = facultad\n",
        "print(\"----------------\")\n",
        "print(len(facultad))\n",
        "#Copiar listas\n",
        "colores = [\"rojo\", \"verde\", \"azul\"]\n",
        "otra = colores.copy()\n",
        "print(\"----------------\")\n",
        "print(colores)\n",
        "print(otra)\n",
        "otra.append(\"rosa\")\n",
        "print(colores)\n",
        "print(otra)"
      ],
      "execution_count": 47,
      "outputs": [
        {
          "output_type": "stream",
          "text": [
            "14\n",
            "----------------\n",
            "17\n",
            "----------------\n",
            "facultad de estudios superiores aragon\n",
            "----------------\n",
            "48\n",
            "----------------\n",
            "['    fac', 'ltad de est', 'dios s', 'periores aragon      ']\n",
            "----------------\n",
            "48\n",
            "----------------\n",
            "['rojo', 'verde', 'azul']\n",
            "['rojo', 'verde', 'azul']\n",
            "['rojo', 'verde', 'azul']\n",
            "['rojo', 'verde', 'azul', 'rosa']\n"
          ],
          "name": "stdout"
        }
      ]
    }
  ]
}