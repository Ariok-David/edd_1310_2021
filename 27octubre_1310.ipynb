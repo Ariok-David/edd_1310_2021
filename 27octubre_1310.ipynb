{
  "nbformat": 4,
  "nbformat_minor": 0,
  "metadata": {
    "colab": {
      "name": "27octubre_1310.ipynb",
      "provenance": [],
      "collapsed_sections": [],
      "authorship_tag": "ABX9TyNJZWXGsPSxtTbM01OPwzk1",
      "include_colab_link": true
    },
    "kernelspec": {
      "name": "python3",
      "display_name": "Python 3"
    }
  },
  "cells": [
    {
      "cell_type": "markdown",
      "metadata": {
        "id": "view-in-github",
        "colab_type": "text"
      },
      "source": [
        "<a href=\"https://colab.research.google.com/github/Ariok-David/edd_1310_2021/blob/master/27octubre_1310.ipynb\" target=\"_parent\"><img src=\"https://colab.research.google.com/assets/colab-badge.svg\" alt=\"Open In Colab\"/></a>"
      ]
    },
    {
      "cell_type": "code",
      "metadata": {
        "id": "kOW9vwicALXG",
        "outputId": "a866c3c2-7d92-489c-9cca-b25a99d3a582",
        "colab": {
          "base_uri": "https://localhost:8080/",
          "height": 68
        }
      },
      "source": [
        "class Computadora:\n",
        "    def __init__( self , m , p):\n",
        "        self.__marca = m\n",
        "        self.__procesador = p\n",
        "\n",
        "    def to_string( self ):\n",
        "        return \"MArca:\"+self.__marca+\" Procesador:\"+self.__procesador\n",
        "\n",
        "mi_pc = Computadora(\"Toshiba\",\"Intel i7\")\n",
        "print(mi_pc.to_string())"
      ],
      "execution_count": 6,
      "outputs": [
        {
          "output_type": "stream",
          "text": [
            "MArca:Toshiba Procesador:Intel i7\n",
            "MArca:HP  Procesador:Intel i7\n",
            "Intel i7\n"
          ],
          "name": "stdout"
        }
      ]
    },
    {
      "cell_type": "markdown",
      "metadata": {
        "id": "Y3Xgy31mEJPr"
      },
      "source": [
        "# Encapsulamiento en Python 3\n",
        "\n",
        "## Tradicional tipo Java\n",
        "       void setAtributo(val)\n",
        "       tipo get Atributo()\n",
        "## Estilo Python 3\n",
        "       @property\n",
        "       @atributo.setter"
      ]
    },
    {
      "cell_type": "code",
      "metadata": {
        "id": "ofx7OkquHs-z"
      },
      "source": [
        "# Tradicional tipo Java\n",
        "\n",
        "class Computadora:\n",
        "    def __init__( self , m , p):\n",
        "        self.__marca = m\n",
        "        self.__procesador = p\n",
        "\n",
        "    def to_string( self ):\n",
        "        return \"MArca:\"+self.__marca+\" Procesador:\"+self.__procesador\n",
        "\n",
        "    def set_marca( self, m ):\n",
        "        self.__marca = m\n",
        "\n",
        "    def get_marca( self ):\n",
        "        return self.__marca\n",
        "    \n",
        "    def set__procesador( self, p):\n",
        "        self.__procesador = p\n",
        "\n",
        "    def get_procesador( self ):\n",
        "        return self.__procesador\n",
        "\n",
        "\n",
        "mi_pc = Computadora(\"Toshiba\",\"Intel i7\")\n",
        "print(mi_pc.to_string())\n",
        "mi_pc.set_marca(\"HP \")\n",
        "print(mi_pc.to_string())\n",
        "print(mi_pc.get_procesador())"
      ],
      "execution_count": null,
      "outputs": []
    },
    {
      "cell_type": "code",
      "metadata": {
        "id": "7dosIINqH8AY",
        "outputId": "5c8502b1-64b6-4cf6-c5c0-81513b7ce8c8",
        "colab": {
          "base_uri": "https://localhost:8080/",
          "height": 51
        }
      },
      "source": [
        "# Tipo Python 3\n",
        "\n",
        "class Computadora:\n",
        "    def __init__( self, m, p):\n",
        "        self.marca = m # se manda a llamar el decorador @property\n",
        "        self.procesador = p #idem\n",
        "\n",
        "    @property # se declara como atributo privado y funciona como metodo get.\n",
        "    def marca( self ):\n",
        "        return self.__marca\n",
        "    \n",
        "    @marca.setter\n",
        "    def marca(self, m):\n",
        "        self.__marca = m\n",
        "    \n",
        "    @property\n",
        "    def procesador(self):\n",
        "        return self.__procesador\n",
        "\n",
        "    @procesador.setter\n",
        "    def procesador(self, p):\n",
        "        self.__procesador = p\n",
        "\n",
        "    def to_string(self ):\n",
        "        return \"Marca:\" + self.marca + \"Procesador:\" + self.procesador\n",
        "\n",
        "\n",
        "mi_pc2 = Computadora(\"Mac Book Pro\", \"Ryzen 5 3500U\")\n",
        "print(mi_pc2.to_string())\n",
        "mi_pc2.marca = \"Dell\"\n",
        "print(mi_pc2.to_string())"
      ],
      "execution_count": 9,
      "outputs": [
        {
          "output_type": "stream",
          "text": [
            "Marca:Mac Book ProProcesador:Ryzen 5 3500U\n",
            "Marca:DellProcesador:Ryzen 5 3500U\n"
          ],
          "name": "stdout"
        }
      ]
    },
    {
      "cell_type": "markdown",
      "metadata": {
        "id": "ZN7bAhlSQiFd"
      },
      "source": [
        "# Herencia, pasando la clase base a la declaracion "
      ]
    },
    {
      "cell_type": "code",
      "metadata": {
        "id": "Tl2fPW83Qsp_",
        "outputId": "cae7bdd5-71ab-48f0-cc47-dd30e29aaa90",
        "colab": {
          "base_uri": "https://localhost:8080/",
          "height": 51
        }
      },
      "source": [
        "class ServidorEmpresarial(Computadora):\n",
        "    def __init__(self):\n",
        "        print(\"Hola servidor\")\n",
        "\n",
        "server = ServidorEmpresarial()\n",
        "server.marca = \"Sun Micro Systems\"\n",
        "server.procesador = \"Ryzen 9 3600U \"\n",
        "print(server.to_string())"
      ],
      "execution_count": 11,
      "outputs": [
        {
          "output_type": "stream",
          "text": [
            "Hola servidor\n",
            "Marca:Sun Micro SystemsProcesador:Ryzen 9 3600U \n"
          ],
          "name": "stdout"
        }
      ]
    },
    {
      "cell_type": "markdown",
      "metadata": {
        "id": "SGFQzm8OTVXi"
      },
      "source": [
        "# No es lo mismo un codificador que un PROGRAMADOR"
      ]
    }
  ]
}