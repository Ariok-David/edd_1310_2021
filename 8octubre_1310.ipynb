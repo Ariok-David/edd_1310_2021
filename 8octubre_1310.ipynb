{
  "nbformat": 4,
  "nbformat_minor": 0,
  "metadata": {
    "colab": {
      "name": "8octubre_1310.ipynb",
      "provenance": [],
      "collapsed_sections": [],
      "authorship_tag": "ABX9TyMoTPTQo52hLNesJAMk3LUe",
      "include_colab_link": true
    },
    "kernelspec": {
      "name": "python3",
      "display_name": "Python 3"
    }
  },
  "cells": [
    {
      "cell_type": "markdown",
      "metadata": {
        "id": "view-in-github",
        "colab_type": "text"
      },
      "source": [
        "<a href=\"https://colab.research.google.com/github/Ariok-David/edd_1310_2021/blob/master/8octubre_1310.ipynb\" target=\"_parent\"><img src=\"https://colab.research.google.com/assets/colab-badge.svg\" alt=\"Open In Colab\"/></a>"
      ]
    },
    {
      "cell_type": "code",
      "metadata": {
        "id": "i0madtX675mb",
        "outputId": "48be83d0-b544-475f-e3f8-293e4ae25c18",
        "colab": {
          "base_uri": "https://localhost:8080/",
          "height": 139
        }
      },
      "source": [
        "monitores =[[\"Samsung\",\"17.3 \\\"\",1024],[\"BenQ\",\"40\\\"\",2048]]\n",
        "procesadores = [[\"Intel\",\"i7\",3.4],[\"AMD\",\"razzer\",3.3],[\"Intel\",\"i3\",3.1]]\n",
        "memorias = [[\"Kingston\", \"8GB\",\"DDR4\"],[\"Kingston\", \"16GB\",\"DDR3\"],[\"ADATA\", \"32GB\",\"DDR4\"]]\n",
        "\n",
        "componentes = [monitores,procesadores,memorias]\n",
        "\n",
        "print(componentes)\n",
        "print(componentes[1])\n",
        "print(componentes[2][1][1])\n",
        "print(int(componentes[0][1][2])*2)\n",
        "print(componentes[1][1][1][1:4:1])\n",
        "print(componentes[2][2][0].lower())"
      ],
      "execution_count": 8,
      "outputs": [
        {
          "output_type": "stream",
          "text": [
            "[[['Samsung', '17.3 \"', 1024], ['BenQ', '40\"', 2048]], [['Intel', 'i7', 3.4], ['AMD', 'razzer', 3.3], ['Intel', 'i3', 3.1]], [['Kingston', '8GB', 'DDR4'], ['Kingston', '16GB', 'DDR3'], ['ADATA', '32GB', 'DDR4']]]\n",
            "[['Intel', 'i7', 3.4], ['AMD', 'razzer', 3.3], ['Intel', 'i3', 3.1]]\n",
            "16GB\n",
            "4096\n",
            "azz\n",
            "adata\n"
          ],
          "name": "stdout"
        }
      ]
    },
    {
      "cell_type": "code",
      "metadata": {
        "id": "1eMyOr-0HvjI",
        "outputId": "e6feeeef-4076-4fef-ceff-c781d4a5a0b1",
        "colab": {
          "base_uri": "https://localhost:8080/",
          "height": 102
        }
      },
      "source": [
        "# extender listas\n",
        "\n",
        "frutas = [\"Manzana\", \"Pera\"]\n",
        "otras_frutas = [\"Aguacate\", \"Sandia\"]\n",
        " # añadir los elementos en una sola lista\n",
        " # Asi no\n",
        "frutas.append(otras_frutas)\n",
        "print(frutas)\n",
        "print(\"-----------------\")\n",
        "\n",
        "# + sobre listas\n",
        "frutas = [\"Manzana\", \"Pera\"]\n",
        "otras_frutas = [\"Aguacate\", \"Sandia\"]\n",
        "frutas = frutas + otras_frutas\n",
        "print(frutas)\n",
        "print(\"-----------------\")\n",
        "\n",
        "# funcion extend\n",
        "frutas = [\"Manzana\", \"Pera\"]\n",
        "otras_frutas = [\"Aguacate\", \"Sandia\"]\n",
        "frutas.extend(otras_frutas)\n",
        "print(frutas)\n",
        "print(\"-----------------\")\n",
        "\n"
      ],
      "execution_count": 13,
      "outputs": [
        {
          "output_type": "stream",
          "text": [
            "['Manzana', 'Pera', ['Aguacate', 'Sandia']]\n",
            "-----------------\n",
            "['Manzana', 'Pera', 'Aguacate', 'Sandia']\n",
            "-----------------\n",
            "['Manzana', 'Pera', 'Aguacate', 'Sandia']\n"
          ],
          "name": "stdout"
        }
      ]
    },
    {
      "cell_type": "code",
      "metadata": {
        "id": "FvTMGaYcLE6H",
        "outputId": "3e2e4b49-8ad0-4824-a505-62e21d060988",
        "colab": {
          "base_uri": "https://localhost:8080/",
          "height": 204
        }
      },
      "source": [
        "#Copiar listas\n",
        "\n",
        "#Checar detalle es como un acceso directo\n",
        "colores = [\"Azul\", \"Rojo\", \"Verde\", \"Violeta\"]\n",
        "otros_colores = colores\n",
        "print(colores)\n",
        "print(otros_colores)\n",
        "otros_colores.append(\"Rosa\")\n",
        "print(colores)\n",
        "print(otros_colores)\n",
        "print(\"-----------------\")\n",
        "\n",
        "# copy\n",
        "una_mas = colores.copy()\n",
        "print(una_mas)\n",
        "print(colores)\n",
        "una_mas.append(\"Gris\")\n",
        "print(una_mas)\n",
        "print(colores)\n",
        "print(\"-----------------\")\n",
        "\n",
        "#Unpaking de listas\n",
        "\n",
        "alumno = [\"Ariok\", \"León\", \"Moreno\", 19, \"ICO\", 9.80]\n",
        "#nombre = alumno[0]\n",
        "#paterno = alumno[1]\n",
        "#etc\n",
        "\n",
        "nombre,paterno,materno,edad,carrera,promedio = alumno\n",
        "print(f\"Alumno:{nombre} Carrera:{carrera} Promedio:{promedio}\")"
      ],
      "execution_count": 19,
      "outputs": [
        {
          "output_type": "stream",
          "text": [
            "['Azul', 'Rojo', 'Verde', 'Violeta']\n",
            "['Azul', 'Rojo', 'Verde', 'Violeta']\n",
            "['Azul', 'Rojo', 'Verde', 'Violeta', 'Rosa']\n",
            "['Azul', 'Rojo', 'Verde', 'Violeta', 'Rosa']\n",
            "-----------------\n",
            "['Azul', 'Rojo', 'Verde', 'Violeta', 'Rosa']\n",
            "['Azul', 'Rojo', 'Verde', 'Violeta', 'Rosa']\n",
            "['Azul', 'Rojo', 'Verde', 'Violeta', 'Rosa', 'Gris']\n",
            "['Azul', 'Rojo', 'Verde', 'Violeta', 'Rosa']\n",
            "-----------------\n",
            "Alumno:Ariok Carrera:ICO Promedio:9.8\n"
          ],
          "name": "stdout"
        }
      ]
    },
    {
      "cell_type": "markdown",
      "metadata": {
        "id": "EAxgRZ6pSAHm"
      },
      "source": [
        "# tuplas\n",
        "\n",
        "- se declaran con ()\n",
        "- selector con []\n",
        "- No son mutables\n"
      ]
    },
    {
      "cell_type": "code",
      "metadata": {
        "id": "r2xl_0PaSNaA",
        "outputId": "e1c55e60-2c02-480b-a7b5-6163218737f3",
        "colab": {
          "base_uri": "https://localhost:8080/",
          "height": 68
        }
      },
      "source": [
        "precios = (99.9, 49.90, 12.45, 23.3, 33.44, 55.66) \n",
        "\n",
        "print(precios[1])\n",
        "#precios[1] = 50.0\n",
        "print(precios)\n",
        "#slicing\n",
        "print(precios[2:4])\n",
        "{}"
      ],
      "execution_count": 23,
      "outputs": [
        {
          "output_type": "stream",
          "text": [
            "49.9\n",
            "(99.9, 49.9, 12.45, 23.3, 33.44, 55.66)\n",
            "(12.45, 23.3)\n"
          ],
          "name": "stdout"
        }
      ]
    },
    {
      "cell_type": "markdown",
      "metadata": {
        "id": "dWPVEJnNSNJU"
      },
      "source": [
        "# Diccionarios\n",
        "\n",
        "- se declara con {}\n",
        "- si son mutables\n",
        "- conjunto de pares llave:valor\n",
        "- equivalente a los objetos JSON de JavaScript\n",
        "\n"
      ]
    },
    {
      "cell_type": "code",
      "metadata": {
        "id": "yetEtJSiT2n9",
        "outputId": "7b4f20b4-de0e-4fad-8adf-84a4c9a6078f",
        "colab": {
          "base_uri": "https://localhost:8080/",
          "height": 105
        }
      },
      "source": [
        "cliente = {}\n",
        "\n",
        "alumno = {  \"num_cta\"  :  30303030303}\n",
        "print(alumno)\n",
        "alumno = {\n",
        "          \"num_cta\" : 303030304 , \n",
        "          \"Carrera\" : \"ICO\" ,\n",
        "          \"promedio\" : 9.5 , \n",
        "          \"Materias\" : ['EDD', 'Matematicas', 'Calculo'] ,\n",
        "          \"Direccion\" : {\n",
        "                            \"Calle\" : \"Rancho seco\" ,\n",
        "                            \"Numero\" : 23 ,\n",
        "                            \"Delegacion\" : \"Nezahualcoyotl\",\n",
        "                            \"Estado\" : {\n",
        "                                            \"id\" : 15 ,\n",
        "                                            \"Nombre\" : \"Estado de Mexico\",\n",
        "                                            \"Nombre Corto\" : \"EDOMEX\"\n",
        "                                       }\n",
        "                        }\n",
        "          }\n",
        "print(alumno)\n",
        "print(alumno['Materias'])\n",
        "print(alumno['Direccion']['Estado'][\"id\"])"
      ],
      "execution_count": 28,
      "outputs": [
        {
          "output_type": "stream",
          "text": [
            "{'num_cta': 30303030303}\n",
            "{'num_cta': 303030304, 'Carrera': 'ICO', 'promedio': 9.5, 'Materias': ['EDD', 'Matematicas', 'Calculo'], 'Direccion': {'Calle': 'Rancho seco', 'Numero': 23, 'Delegacion': 'Nezahualcoyotl', 'Estado': {'id': 15, 'Nombre': 'Estado de Mexico', 'Nombre Corto': 'EDOMEX'}}}\n",
            "['EDD', 'Matematicas', 'Calculo']\n",
            "15\n"
          ],
          "name": "stdout"
        }
      ]
    }
  ]
}