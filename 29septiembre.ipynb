{
  "nbformat": 4,
  "nbformat_minor": 0,
  "metadata": {
    "colab": {
      "name": "Untitled0.ipynb",
      "provenance": [],
      "authorship_tag": "ABX9TyOy5eIkoWXLEBPFpXXe0tlX",
      "include_colab_link": true
    },
    "kernelspec": {
      "name": "python3",
      "display_name": "Python 3"
    }
  },
  "cells": [
    {
      "cell_type": "markdown",
      "metadata": {
        "id": "view-in-github",
        "colab_type": "text"
      },
      "source": [
        "<a href=\"https://colab.research.google.com/github/Ariok-David/edd_1310_2021/blob/master/29septiembre.ipynb\" target=\"_parent\"><img src=\"https://colab.research.google.com/assets/colab-badge.svg\" alt=\"Open In Colab\"/></a>"
      ]
    },
    {
      "cell_type": "code",
      "metadata": {
        "id": "e8N0dgAZ7EPR"
      },
      "source": [
        "edad = 10"
      ],
      "execution_count": 2,
      "outputs": []
    },
    {
      "cell_type": "code",
      "metadata": {
        "id": "TdcYGdYe8Aak",
        "outputId": "e11d9848-aae2-412d-af33-85f2210a83fc",
        "colab": {
          "base_uri": "https://localhost:8080/",
          "height": 51
        }
      },
      "source": [
        "print(edad)\n",
        "colores = ['rojo','azul','verde','morado','violeta']\n",
        "print(colores)"
      ],
      "execution_count": 4,
      "outputs": [
        {
          "output_type": "stream",
          "text": [
            "10\n",
            "['rojo', 'azul', 'verde', 'morado', 'violeta']\n"
          ],
          "name": "stdout"
        }
      ]
    },
    {
      "cell_type": "code",
      "metadata": {
        "id": "ixm5B7g48C41",
        "outputId": "1ff804c9-150c-47c4-ae7a-e6c5dadb8c8c",
        "colab": {
          "base_uri": "https://localhost:8080/",
          "height": 34
        }
      },
      "source": [
        "print(colores[3])"
      ],
      "execution_count": 5,
      "outputs": [
        {
          "output_type": "stream",
          "text": [
            "morado\n"
          ],
          "name": "stdout"
        }
      ]
    },
    {
      "cell_type": "code",
      "metadata": {
        "id": "w8PKpE9n8FBC",
        "outputId": "c9e73b78-55a9-4d6f-d7a2-961ad21756dd",
        "colab": {
          "base_uri": "https://localhost:8080/",
          "height": 68
        }
      },
      "source": [
        "# sólo mostrar la 'ra' de morado ??????\n",
        "print(colores[3][2:4])\n",
        "nombre = \"Alberto\"\n",
        "print(nombre[0])\n",
        "print(nombre[0:3:1])"
      ],
      "execution_count": 6,
      "outputs": [
        {
          "output_type": "stream",
          "text": [
            "ra\n",
            "A\n",
            "Alb\n"
          ],
          "name": "stdout"
        }
      ]
    },
    {
      "cell_type": "markdown",
      "metadata": {
        "id": "9S4bC9k78Ifo"
      },
      "source": [
        "# For en Python 3\n",
        "2 variantes\n",
        "1. j in range(ini, tope , incremento) \n",
        "2. in [iterador]\n"
      ]
    },
    {
      "cell_type": "code",
      "metadata": {
        "id": "rxS2bQXn8OBT",
        "outputId": "97f71616-82b8-4976-95b8-0443bfbb90b3",
        "colab": {
          "base_uri": "https://localhost:8080/",
          "height": 102
        }
      },
      "source": [
        "for j in range(0,5,1):\n",
        "  print(colores[j])"
      ],
      "execution_count": 8,
      "outputs": [
        {
          "output_type": "stream",
          "text": [
            "rojo\n",
            "azul\n",
            "verde\n",
            "morado\n",
            "violeta\n"
          ],
          "name": "stdout"
        }
      ]
    },
    {
      "cell_type": "code",
      "metadata": {
        "id": "N0tQpQEs8QQx",
        "outputId": "a79687e9-22ea-49ef-faf1-2e3b43a5500f",
        "colab": {
          "base_uri": "https://localhost:8080/",
          "height": 102
        }
      },
      "source": [
        "for color in colores:\n",
        "  print(color)"
      ],
      "execution_count": 9,
      "outputs": [
        {
          "output_type": "stream",
          "text": [
            "rojo\n",
            "azul\n",
            "verde\n",
            "morado\n",
            "violeta\n"
          ],
          "name": "stdout"
        }
      ]
    },
    {
      "cell_type": "code",
      "metadata": {
        "id": "HS8f1awq8SZp",
        "outputId": "77483adf-d192-4e0a-dc4c-5a5edda4db04",
        "colab": {
          "base_uri": "https://localhost:8080/",
          "height": 136
        }
      },
      "source": [
        "for j in range(0,len(nombre),1):\n",
        "  print(nombre[j])"
      ],
      "execution_count": 10,
      "outputs": [
        {
          "output_type": "stream",
          "text": [
            "A\n",
            "l\n",
            "b\n",
            "e\n",
            "r\n",
            "t\n",
            "o\n"
          ],
          "name": "stdout"
        }
      ]
    },
    {
      "cell_type": "code",
      "metadata": {
        "id": "0pyRof-A8Wfh",
        "outputId": "f367bd7d-180f-4736-ea01-f06c7cfa9269",
        "colab": {
          "base_uri": "https://localhost:8080/",
          "height": 136
        }
      },
      "source": [
        "for letra in nombre:\n",
        "  print(letra)"
      ],
      "execution_count": 11,
      "outputs": [
        {
          "output_type": "stream",
          "text": [
            "A\n",
            "l\n",
            "b\n",
            "e\n",
            "r\n",
            "t\n",
            "o\n"
          ],
          "name": "stdout"
        }
      ]
    },
    {
      "cell_type": "markdown",
      "metadata": {
        "id": "qoi5MQe98adl"
      },
      "source": [
        "# Que es Markdown\n",
        "Markdown en un lenguaje de marcado para documentar código. El objetivo es simplificar la escritura de lenguaje HTML. \n",
        "___\n",
        "**negritas**\n",
        "---\n",
        "\n",
        "o\n",
        "***\n",
        "\n",
        "Más infrmación en: [Github Cheatsheet markdown](https://github.com/adam-p/markdown-here/wiki/Markdown-Cheatsheet)\n",
        "____\n",
        "![Hulk](https://vignette.wikia.nocookie.net/disney/images/f/fc/AoU_Hulk_01.png/revision/latest?cb=20171104163705&path-prefix=es)\n"
      ]
    }
  ]
}