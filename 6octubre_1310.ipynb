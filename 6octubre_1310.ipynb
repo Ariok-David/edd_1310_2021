{
  "nbformat": 4,
  "nbformat_minor": 0,
  "metadata": {
    "colab": {
      "name": "6octubre_1310.ipynb",
      "provenance": [],
      "collapsed_sections": [],
      "authorship_tag": "ABX9TyMsbKyEyUB99LSnTEqwkk+e",
      "include_colab_link": true
    },
    "kernelspec": {
      "name": "python3",
      "display_name": "Python 3"
    }
  },
  "cells": [
    {
      "cell_type": "markdown",
      "metadata": {
        "id": "view-in-github",
        "colab_type": "text"
      },
      "source": [
        "<a href=\"https://colab.research.google.com/github/Ariok-David/edd_1310_2021/blob/master/6octubre_1310.ipynb\" target=\"_parent\"><img src=\"https://colab.research.google.com/assets/colab-badge.svg\" alt=\"Open In Colab\"/></a>"
      ]
    },
    {
      "cell_type": "code",
      "metadata": {
        "id": "AQlY3hJTqyKd",
        "outputId": "d5f01a6a-03d0-4395-a919-ddcec0d18bdb",
        "colab": {
          "base_uri": "https://localhost:8080/",
          "height": 357
        }
      },
      "source": [
        "# String continuacion\n",
        "\n",
        "numeros_txt = \" 1, 3 ,2 , 3, 4  , 5, 6 ,35, 15  ,  12\"\n",
        "print(numeros_txt)\n",
        "numeros_txt = numeros_txt.lstrip().split(',')\n",
        "print(numeros_txt)\n",
        "\n",
        "for j in range(len(numeros_txt)):\n",
        "    numeros_txt[j] = int(numeros_txt[j].strip())\n",
        "\n",
        "print(numeros_txt)\n",
        "\n",
        "#funcion range()\n",
        "#range(inicio, stop, incremento)\n",
        "print(range(0, 10, 1))\n",
        "rango = range(1, 10,2)\n",
        "for x in rango:\n",
        "    print(x)\n",
        "print(\"-----------------------------\")\n",
        "rango =  range(10)\n",
        "for x in rango:\n",
        "    print(x)"
      ],
      "execution_count": 13,
      "outputs": [
        {
          "output_type": "stream",
          "text": [
            " 1, 3 ,2 , 3, 4  , 5, 6 ,35, 15  ,  12\n",
            "['1', ' 3 ', '2 ', ' 3', ' 4  ', ' 5', ' 6 ', '35', ' 15  ', '  12']\n",
            "[1, 3, 2, 3, 4, 5, 6, 35, 15, 12]\n",
            "range(0, 10)\n",
            "1\n",
            "3\n",
            "5\n",
            "7\n",
            "9\n",
            "-----------------------------\n",
            "0\n",
            "1\n",
            "2\n",
            "3\n",
            "4\n",
            "5\n",
            "6\n",
            "7\n",
            "8\n",
            "9\n"
          ],
          "name": "stdout"
        }
      ]
    },
    {
      "cell_type": "markdown",
      "metadata": {
        "id": "pghZIr1uw2Pk"
      },
      "source": [
        "# Listas\n",
        "- Son mutables\n",
        "- Se declaran con []\n",
        "- Selector [int]\n",
        "- Pueden ser de cualquier tipo y mezclado\n",
        "\n",
        "#Tuplas\n",
        "- No mutables\n",
        "- Se declaran con ()\n",
        "- Selector [int]\n",
        "\n",
        "#Diccionarios\n",
        "- Son conjunto de pares llave:valor\n",
        "- Son mutables\n",
        "- Equivalente a los objetos JSON de javascript\n",
        "\n",
        "#Conjuntos\n",
        "- Representacion de la teoria de conjuntos\n"
      ]
    },
    {
      "cell_type": "code",
      "metadata": {
        "id": "aYrLUyZIx-06",
        "outputId": "cb0bbbfc-69d5-4e77-d2af-f20ff25b5816",
        "colab": {
          "base_uri": "https://localhost:8080/",
          "height": 221
        }
      },
      "source": [
        "# listas \n",
        "frutas = [\"Pera\", \"Manzana\", \"Fresa\", \"Kiwi\", \"Naranja\"]\n",
        "print(frutas)\n",
        "frutas[2] = \"fresa\"\n",
        "print(frutas)\n",
        "#Capitalalize para poner en mayuscula la primer letra de nuestra palabra\n",
        "frutas[2] = frutas[2].capitalize()\n",
        "print(frutas)\n",
        "\n",
        "print(\"---------------------------\")\n",
        "\n",
        "cosas = [\"Cuaderno\", 2, 3.1416, True, False, [\"Rojo\", \"Azul\"]]\n",
        "print(cosas)\n",
        "\n",
        "print(\"----------------------- ---\")\n",
        "\n",
        "#Agregar a una lista\n",
        "\n",
        "# append() añade al final\n",
        "\n",
        "frutas.append(\"Aguacate\")\n",
        "print(frutas)\n",
        "\n",
        "#insert() añade en la pocision que queramos\n",
        "\n",
        "frutas.insert(2, \"Sandia\")\n",
        "print(frutas)\n",
        "\n",
        "print(\"---------------------------\")\n",
        "\n",
        "fecha = [\"06\", \"10\", \"2020\"] \n",
        "print(fecha)\n",
        "\n",
        "# poner en formato 06/10/2020\n",
        "\n",
        "fecha_str = \"/\".join(fecha)\n",
        "print(fecha_str)\n",
        "\n",
        "print(\"---------------------------\")"
      ],
      "execution_count": 27,
      "outputs": [
        {
          "output_type": "stream",
          "text": [
            "['Pera', 'Manzana', 'Fresa', 'Kiwi', 'Naranja']\n",
            "['Pera', 'Manzana', 'fresa', 'Kiwi', 'Naranja']\n",
            "['Pera', 'Manzana', 'Fresa', 'Kiwi', 'Naranja']\n",
            "---------------------------\n",
            "['Cuaderno', 2, 3.1416, True, False, ['Rojo', 'Azul']]\n",
            "----------------------- ---\n",
            "['Pera', 'Manzana', 'Fresa', 'Kiwi', 'Naranja', 'Aguacate']\n",
            "['Pera', 'Manzana', 'Sandia', 'Fresa', 'Kiwi', 'Naranja', 'Aguacate']\n",
            "---------------------------\n",
            "['06', '10', '2020']\n",
            "06/10/2020\n",
            "---------------------------\n"
          ],
          "name": "stdout"
        }
      ]
    },
    {
      "cell_type": "code",
      "metadata": {
        "id": "nb1dr2Cc3VEh",
        "outputId": "a7837ee8-7474-406e-8ae2-d6feb08c29e5",
        "colab": {
          "base_uri": "https://localhost:8080/",
          "height": 255
        }
      },
      "source": [
        "# Eliminar elementos\n",
        "\n",
        "cosas = [\"Cuaderno\", 2, 3.1416, True, False, [\"Rojo\", \"Azul\"]]\n",
        "print(cosas)\n",
        "cosas.append(\"Libro\")\n",
        "cosas.append(\"Lapiz\")\n",
        "print(cosas)\n",
        "\n",
        "print(\"---------------------------\")\n",
        "# pop elimina el elemento en la posicion deseada\n",
        "\n",
        "algo = cosas.pop()\n",
        "print(cosas)\n",
        "print(algo)\n",
        "\n",
        "algo = cosas.pop(2)\n",
        "print(cosas)\n",
        "print(algo)\n",
        "\n",
        "print(\"------------------------\")\n",
        "\n",
        "#remove elimina cosas en la posicion indicada\n",
        "\n",
        "cosas.remove(2)\n",
        "print(cosas)\n",
        "\n",
        "print(\"------------------------\")\n",
        "\n",
        "#Vaciar una lista\n",
        "\n",
        "cosas.clear()\n",
        "print(cosas)\n",
        "\n",
        "print(\"------------------------\")\n",
        "\n",
        "#Ordenar lista \n",
        "#Nota: solo sirve si la lista es del mismo tipo.\n",
        "print(frutas)\n",
        "frutas.sort()\n",
        "print(frutas)\n"
      ],
      "execution_count": 42,
      "outputs": [
        {
          "output_type": "stream",
          "text": [
            "['Cuaderno', 2, 3.1416, True, False, ['Rojo', 'Azul']]\n",
            "['Cuaderno', 2, 3.1416, True, False, ['Rojo', 'Azul'], 'Libro', 'Lapiz']\n",
            "---------------------------\n",
            "['Cuaderno', 2, 3.1416, True, False, ['Rojo', 'Azul'], 'Libro']\n",
            "Lapiz\n",
            "['Cuaderno', 2, True, False, ['Rojo', 'Azul'], 'Libro']\n",
            "3.1416\n",
            "------------------------\n",
            "['Cuaderno', True, False, ['Rojo', 'Azul'], 'Libro']\n",
            "------------------------\n",
            "[]\n",
            "------------------------\n",
            "['Pera', 'Manzana', 'Sandia', 'Fresa', 'Kiwi', 'Naranja', 'Aguacate']\n",
            "['Aguacate', 'Fresa', 'Kiwi', 'Manzana', 'Naranja', 'Pera', 'Sandia']\n"
          ],
          "name": "stdout"
        }
      ]
    },
    {
      "cell_type": "code",
      "metadata": {
        "id": "tCcWpBLd7GtE",
        "outputId": "c3f2ebd4-28a5-40c0-e3fc-85641ec7c0f7",
        "colab": {
          "base_uri": "https://localhost:8080/",
          "height": 170
        }
      },
      "source": [
        "#Slicing\n",
        "cosas = [\"Cuaderno\", 2, 3.1416, True, False, [\"Rojo\", \"Azul\"]]\n",
        "print(cosas[3:5:1])\n",
        "print(cosas)\n",
        "print(cosas[0][3:5:1])\n",
        "\n",
        "print(\"-----------------------\")\n",
        "\n",
        "numeros = [1, 2, 3, 4, 5, 6, 7, 8, 9, 10, 11, 12, 13, 14, 15]\n",
        "print(numeros[7:12:1])\n",
        "\n",
        "print(\"-----------------------\")\n",
        "\n",
        "#Sustituir rebanadas gg\n",
        "numeros[7:12] = [-2, -2]\n",
        "print(numeros)\n",
        "\n",
        "print(\"-----------------------\")\n",
        "\n",
        "#Preguntar por existencia\n",
        "print(-2 in numeros)\n",
        "\n",
        "print(\"-----------------------\")\n"
      ],
      "execution_count": 49,
      "outputs": [
        {
          "output_type": "stream",
          "text": [
            "[True, False]\n",
            "['Cuaderno', 2, 3.1416, True, False, ['Rojo', 'Azul']]\n",
            "de\n",
            "-----------------------\n",
            "[8, 9, 10, 11, 12]\n",
            "-----------------------\n",
            "[1, 2, 3, 4, 5, 6, 7, -2, -2, 13, 14, 15]\n",
            "-----------------------\n",
            "True\n"
          ],
          "name": "stdout"
        }
      ]
    },
    {
      "cell_type": "markdown",
      "metadata": {
        "id": "hT5Vcl_8-jaz"
      },
      "source": [
        "# Listas multidimensión\n",
        "\n",
        "Listas dentro de listas"
      ]
    },
    {
      "cell_type": "code",
      "metadata": {
        "id": "SIG6vDMq-rtL",
        "outputId": "4a1666ef-b2cc-4162-a31f-3a7f0e63d685",
        "colab": {
          "base_uri": "https://localhost:8080/",
          "height": 156
        }
      },
      "source": [
        "computadoras = [\"HP\", \"Macbook Pro 17\", \"Matebook\", \"Lenovo Legion\"]\n",
        "oss = [\"Windows 10\", \"Linux\", \"Android\", \"IOs\"]\n",
        "\n",
        "computo = [computadoras, oss]\n",
        "print(computo[0])\n",
        "print(computo[1])\n",
        "print(computo[0][2])\n",
        "print(computo[0][2][3::-1])\n",
        "\n",
        "#preguntar por existencia\n",
        "print(\"Linux\" in computo[1])\n",
        "\n",
        "#\n",
        "\n",
        "dbms = [[\"MySQL\", \"Open Source\", False], [\"MS SQL Server\", \"De paga\", True]]\n",
        "\n",
        "computo.append(dbms)\n",
        "print(computo)\n",
        "print(computo[2][1][1])"
      ],
      "execution_count": 65,
      "outputs": [
        {
          "output_type": "stream",
          "text": [
            "['HP', 'Macbook Pro 17', 'Matebook', 'Lenovo Legion']\n",
            "['Windows 10', 'Linux', 'Android', 'IOs']\n",
            "Matebook\n",
            "etaM\n",
            "True\n",
            "[['HP', 'Macbook Pro 17', 'Matebook', 'Lenovo Legion'], ['Windows 10', 'Linux', 'Android', 'IOs'], [['MySQL', 'Open Source', False], ['MS SQL Server', 'De paga', True]]]\n",
            "De paga\n"
          ],
          "name": "stdout"
        }
      ]
    }
  ]
}