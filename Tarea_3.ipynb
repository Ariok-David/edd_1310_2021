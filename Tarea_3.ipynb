{
  "nbformat": 4,
  "nbformat_minor": 0,
  "metadata": {
    "colab": {
      "name": "Tarea_3.ipynb",
      "provenance": [],
      "collapsed_sections": [],
      "authorship_tag": "ABX9TyNoPWQRKuaASEI14u3B8Fu2",
      "include_colab_link": true
    },
    "kernelspec": {
      "name": "python3",
      "display_name": "Python 3"
    }
  },
  "cells": [
    {
      "cell_type": "markdown",
      "metadata": {
        "id": "view-in-github",
        "colab_type": "text"
      },
      "source": [
        "<a href=\"https://colab.research.google.com/github/Ariok-David/edd_1310_2021/blob/master/Tarea_3.ipynb\" target=\"_parent\"><img src=\"https://colab.research.google.com/assets/colab-badge.svg\" alt=\"Open In Colab\"/></a>"
      ]
    },
    {
      "cell_type": "code",
      "metadata": {
        "id": "73ZaJG_gnJoN"
      },
      "source": [
        "class Persona():\n",
        "    def __init__(self, nombre, edad, estatura):\n",
        "        self.__nombre = nombre\n",
        "        self.__edad = edad\n",
        "        self.__estatura = estatura\n",
        "        \n",
        "    def dormir(self):\n",
        "        print(f\"{self.__nombre} esta durmiendo; no molestar.\")\n",
        "        return \"Durmiendo\"\n",
        "\n",
        "    def comer(self):\n",
        "        print(f\"{self.__nombre} esta comiendo; dejalo terminar. \")\n",
        "        return \"Comiendo\""
      ],
      "execution_count": 1,
      "outputs": []
    },
    {
      "cell_type": "code",
      "metadata": {
        "id": "MZf2B6PEuMCN"
      },
      "source": [
        "class Celular():\n",
        "    def __init__(self, marca, modelo, capacidad_memoria):\n",
        "        self.__marca = marca\n",
        "        self.__modelo = modelo\n",
        "        self.__capacidad_memoria = capacidad_memoria\n",
        "    \n",
        "    def llamar(self):\n",
        "        print(f\"Llamando desde {self.__marca} , {self.__modelo} ...............\")\n",
        "        return \"Llamando .....................\"\n",
        "\n",
        "    def poner_alarma(self):\n",
        "        print(f\"La alarma para {self.__marca} , {self.__modelo} se ha establecido.\")\n",
        "        return \"Alarma establecida\""
      ],
      "execution_count": 2,
      "outputs": []
    },
    {
      "cell_type": "code",
      "metadata": {
        "id": "jL1XGhuVxi8j",
        "outputId": "cf0071bb-c737-4b57-aa6f-caf8abfa5870",
        "colab": {
          "base_uri": "https://localhost:8080/",
          "height": 187
        }
      },
      "source": [
        "print(\"---------------Clase Persona------------------\")\n",
        "humano = Persona('David', 15, '1.72 m')\n",
        "print(humano.dormir())\n",
        "print(humano.comer())\n",
        "print(\"---------------Clase Celular------------------\")\n",
        "movil = Celular('Motorola', 'E6 Play', 16)\n",
        "print(movil.llamar())\n",
        "print(movil.poner_alarma())\n"
      ],
      "execution_count": 9,
      "outputs": [
        {
          "output_type": "stream",
          "text": [
            "---------------Clase Persona------------------\n",
            "David esta durmiendo; no molestar.\n",
            "Durmiendo\n",
            "David esta comiendo; dejalo terminar. \n",
            "Comiendo\n",
            "---------------Clase Celular------------------\n",
            "Llamando desde Motorola , E6 Play ...............\n",
            "Llamando .....................\n",
            "La alarma para Motorola , E6 Play se ha establecido.\n",
            "Alarma establecida\n"
          ],
          "name": "stdout"
        }
      ]
    }
  ]
}