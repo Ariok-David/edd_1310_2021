{
  "nbformat": 4,
  "nbformat_minor": 0,
  "metadata": {
    "colab": {
      "name": "12noviembre__1310.ipynb",
      "provenance": [],
      "collapsed_sections": [],
      "authorship_tag": "ABX9TyNaLG9Bdur3O1Vb8pVRmwao",
      "include_colab_link": true
    },
    "kernelspec": {
      "name": "python3",
      "display_name": "Python 3"
    }
  },
  "cells": [
    {
      "cell_type": "markdown",
      "metadata": {
        "id": "view-in-github",
        "colab_type": "text"
      },
      "source": [
        "<a href=\"https://colab.research.google.com/github/Ariok-David/edd_1310_2021/blob/master/12noviembre__1310.ipynb\" target=\"_parent\"><img src=\"https://colab.research.google.com/assets/colab-badge.svg\" alt=\"Open In Colab\"/></a>"
      ]
    },
    {
      "cell_type": "code",
      "metadata": {
        "id": "yb9eFBw2cebY",
        "outputId": "43ae8034-a4dc-4f87-8a0b-8f3ea55edc08",
        "colab": {
          "base_uri": "https://localhost:8080/"
        }
      },
      "source": [
        "class Nodo:\n",
        "    def __init__(self, dato):\n",
        "        self.dato = dato\n",
        "        self.siguiente = None\n",
        "\n",
        "\n",
        "#Ejemplo 1 un solo elemento\n",
        "a = Nodo(12)\n",
        "print(a.dato)\n",
        "print(a.siguiente)\n",
        "\n",
        "\n",
        "#ejemplo 2\n",
        "a.siguiente = Nodo(20)\n",
        "\n",
        "\n",
        "#ejemplo 3\n",
        "a.siguiente.siguiente = Nodo(30)\n",
        "\n",
        "#Ejemplo 4 \n",
        "a.siguiente.siguiente.siguiente = Nodo(40)\n",
        "\n",
        "#Ejemplo 5 \n",
        "a.siguiente.siguiente.siguiente.siguiente = Nodo(50)\n",
        "\n",
        "#Ejemplo 6  (Eliminando nodos (30))\n",
        "a.siguiente.siguiente = a.siguiente.siguiente.siguiente\n",
        "\n",
        "#Ejemplo 7 \n",
        "a.siguiente.siguiente.dato = 45\n",
        "\n",
        "#Ejemplo 8 (Insertar un dato)\n",
        "tmp = a.siguiente.siguiente.siguiente\n",
        "a.siguiente.siguiente.siguiente = Nodo(48)#Nodo que se va a insertar\n",
        "a.siguiente.siguiente.siguiente.siguiente = tmp\n",
        "\n",
        "#Recorrido Transversal\n",
        "curr_node = a\n",
        "print(curr_node.dato, \"--->\", end =\"\")\n",
        "while(curr_node.siguiente != None):\n",
        "    curr_node = curr_node.siguiente\n",
        "    print(curr_node.dato, \"--->\", end=\"\")\n",
        "print(\"\")\n"
      ],
      "execution_count": 16,
      "outputs": [
        {
          "output_type": "stream",
          "text": [
            "12\n",
            "None\n",
            "12 --->20 --->45 --->48 --->50 --->\n"
          ],
          "name": "stdout"
        }
      ]
    },
    {
      "cell_type": "code",
      "metadata": {
        "id": "nXlfkptWunJV",
        "outputId": "2e181b9e-bb77-4e95-c3e8-e0498a2baad3",
        "colab": {
          "base_uri": "https://localhost:8080/"
        }
      },
      "source": [
        "class Nodo:\n",
        "    def __init__(self, dato, sig=None):\n",
        "        self.dato = dato\n",
        "        self.siguiente = sig\n",
        "\n",
        "#Ejemplo 1\n",
        "a = Nodo(10)\n",
        "\n",
        "#Ejemplo 2\n",
        "a = Nodo(10, Nodo(20))\n",
        "\n",
        "#Ejemplo 3\n",
        "a = Nodo(10, Nodo(20, Nodo(30, Nodo(40, Nodo(50)))))\n",
        "\n",
        "#Recorrido Transversal\n",
        "curr_node = a\n",
        "print(curr_node.dato, \"--->\", end =\"\")\n",
        "while(curr_node.siguiente != None):\n",
        "    curr_node = curr_node.siguiente\n",
        "    print(curr_node.dato, \"--->\", end=\"\")\n",
        "print(\"\")"
      ],
      "execution_count": 17,
      "outputs": [
        {
          "output_type": "stream",
          "text": [
            "10 --->20 --->30 --->40 --->50 --->\n"
          ],
          "name": "stdout"
        }
      ]
    }
  ]
}