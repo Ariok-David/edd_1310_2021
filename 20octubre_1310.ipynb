{
  "nbformat": 4,
  "nbformat_minor": 0,
  "metadata": {
    "colab": {
      "name": "20octubre_1310.ipynb",
      "provenance": [],
      "collapsed_sections": [],
      "authorship_tag": "ABX9TyNI0k7L3uSILpZfoJQ4af0e",
      "include_colab_link": true
    },
    "kernelspec": {
      "name": "python3",
      "display_name": "Python 3"
    }
  },
  "cells": [
    {
      "cell_type": "markdown",
      "metadata": {
        "id": "view-in-github",
        "colab_type": "text"
      },
      "source": [
        "<a href=\"https://colab.research.google.com/github/Ariok-David/edd_1310_2021/blob/master/20octubre_1310.ipynb\" target=\"_parent\"><img src=\"https://colab.research.google.com/assets/colab-badge.svg\" alt=\"Open In Colab\"/></a>"
      ]
    },
    {
      "cell_type": "code",
      "metadata": {
        "id": "30vM28PhxbZE",
        "outputId": "69d1c014-1ca6-4a33-a330-69d65cfb8ff6",
        "colab": {
          "base_uri": "https://localhost:8080/",
          "height": 272
        }
      },
      "source": [
        "archivo = open('numeros.txt', 'rt')\n",
        "for linea in archivo.readlines():\n",
        "    for trunc in linea.split(','):\n",
        "        print(int(trunc.strip()))"
      ],
      "execution_count": 4,
      "outputs": [
        {
          "output_type": "stream",
          "text": [
            "23\n",
            "23\n",
            "44\n",
            "55\n",
            "5\n",
            "44\n",
            "4\n",
            "5\n",
            "7\n",
            "7\n",
            "6\n",
            "5\n",
            "4\n",
            "2\n",
            "1\n"
          ],
          "name": "stdout"
        }
      ]
    },
    {
      "cell_type": "markdown",
      "metadata": {
        "id": "oaSuphK72lb5"
      },
      "source": [
        "# sintaxis del for en Python\n",
        "dos versiones del for:\n",
        "1. range\n",
        "1. in iterator"
      ]
    },
    {
      "cell_type": "code",
      "metadata": {
        "id": "cpD8Ov-d20Kv",
        "outputId": "cb1f9f95-12b7-4e71-da1e-4e0efd47ceff",
        "colab": {
          "base_uri": "https://localhost:8080/",
          "height": 272
        }
      },
      "source": [
        "r = range(0,10,2)\n",
        "for x in r:\n",
        "    print(x)\n",
        "\n",
        "colores = ['rojo', 'rosa', 'azul', 'fucsia']\n",
        "\n",
        "print(\"------------------------------------------\")\n",
        "\n",
        "# range\n",
        "for indice in range(0,len(colores),1):\n",
        "    print(colores[indice])\n",
        "    colores[indice] = colores[indice].upper()\n",
        "\n",
        "print(\"------------------------------------------\")\n",
        "\n",
        "# iterator\n",
        "for col in colores:\n",
        "    print(col)"
      ],
      "execution_count": 16,
      "outputs": [
        {
          "output_type": "stream",
          "text": [
            "0\n",
            "2\n",
            "4\n",
            "6\n",
            "8\n",
            "------------------------------------------\n",
            "rojo\n",
            "rosa\n",
            "azul\n",
            "fucsia\n",
            "------------------------------------------\n",
            "ROJO\n",
            "ROSA\n",
            "AZUL\n",
            "FUCSIA\n"
          ],
          "name": "stdout"
        }
      ]
    },
    {
      "cell_type": "markdown",
      "metadata": {
        "id": "4LoYSW-q8byB"
      },
      "source": [
        "# GENERADORES\n",
        "[\"Hola\" for x in range(10)]\n",
        "\n",
        "[[0,0,0],\n",
        " [0,0,0],\n",
        " [0,0,0]]"
      ]
    },
    {
      "cell_type": "code",
      "metadata": {
        "id": "gXDdNxKX8fYm",
        "outputId": "1b824902-6817-42e5-c830-3cf73eab65a8",
        "colab": {
          "base_uri": "https://localhost:8080/",
          "height": 51
        }
      },
      "source": [
        "lista = [\"Hola\" for x in range (10)]\n",
        "print(lista)\n",
        "\n",
        "ren = 5\n",
        "col = 3\n",
        "lista = [[0 for x in range(col)] for z in range(ren)]\n",
        "print(lista)"
      ],
      "execution_count": 23,
      "outputs": [
        {
          "output_type": "stream",
          "text": [
            "['Hola', 'Hola', 'Hola', 'Hola', 'Hola', 'Hola', 'Hola', 'Hola', 'Hola', 'Hola']\n",
            "[[0, 0, 0], [0, 0, 0], [0, 0, 0], [0, 0, 0], [0, 0, 0]]\n"
          ],
          "name": "stdout"
        }
      ]
    },
    {
      "cell_type": "markdown",
      "metadata": {
        "id": "8WqZnLC1_FAG"
      },
      "source": [
        "# POO en python\n",
        " - clase\n",
        " - creacion de objetos\n",
        " - constructor\n",
        " - encapsulamiento\n",
        " - metodos\n",
        " - atributos\n",
        " - herencia  "
      ]
    },
    {
      "cell_type": "code",
      "metadata": {
        "id": "gYNxB554_o1_",
        "outputId": "b4490576-380c-4948-b8ca-1ca0cc77c9d2",
        "colab": {
          "base_uri": "https://localhost:8080/",
          "height": 34
        }
      },
      "source": [
        "# Clase\n",
        "\n",
        "class Computadora:\n",
        "\n",
        "\n",
        "\n",
        "    def __init__( self , m , p):\n",
        "        self.__marca = m\n",
        "        self.__procesador = p\n",
        "\n",
        "    def to_string( self ):\n",
        "        return \"Marca:\" + self.__marca + \" Procesador:\" + self.__procesador\n",
        "\n",
        "mi_pc = Computadora(\"Toshiba\", \"Intel i9\")\n",
        "mi_pc.__marca = \"HP \"\n",
        "print(mi_pc.to_string())"
      ],
      "execution_count": 29,
      "outputs": [
        {
          "output_type": "stream",
          "text": [
            "Marca:Toshiba Procesador:Intel i9\n"
          ],
          "name": "stdout"
        }
      ]
    }
  ]
}